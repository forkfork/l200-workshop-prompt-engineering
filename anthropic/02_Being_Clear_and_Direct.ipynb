{
 "cells": [
  {
   "cell_type": "markdown",
   "metadata": {},
   "source": [
    "# Chapter 2: Being Clear and Direct\n",
    "\n",
    "- [Lesson](#lesson)\n",
    "- [Exercises](#exercises)\n",
    "- [Example Playground](#example-playground)\n",
    "\n",
    "## Setup\n",
    "\n",
    "Run the following setup cell to load your API key and establish the `get_completion` helper function."
   ]
  },
  {
   "cell_type": "code",
   "execution_count": 6,
   "metadata": {},
   "outputs": [
    {
     "name": "stdout",
     "output_type": "stream",
     "text": [
      "Note: you may need to restart the kernel to use updated packages.\n"
     ]
    }
   ],
   "source": [
    "%pip install anthropic --quiet\n",
    "\n",
    "# Import the hints module from the utils package\n",
    "import os\n",
    "import sys\n",
    "import requests\n",
    "module_path = \"..\"\n",
    "sys.path.append(os.path.abspath(module_path))\n",
    "from utils import hints\n",
    "\n",
    "# Import python's built-in regular expression library\n",
    "import re\n",
    "from anthropic import AnthropicBedrock\n",
    "\n",
    "%store -r MODEL_NAME\n",
    "%store -r AWS_REGION\n",
    "%store -r GRADING_DOMAIN\n",
    "%store -r ALIAS\n",
    "\n",
    "client = AnthropicBedrock(aws_region=AWS_REGION)\n",
    "\n",
    "def get_completion(prompt, system=''):\n",
    "    message = client.messages.create(\n",
    "        model=MODEL_NAME,\n",
    "        max_tokens=2000,\n",
    "        temperature=0.0,\n",
    "        messages=[\n",
    "          {\"role\": \"user\", \"content\": prompt}\n",
    "        ],\n",
    "        system=system\n",
    "    )\n",
    "    return message.content[0].text\n",
    "\n",
    "def grade_exercise(alias, questioncode, text):\n",
    "    payload = {\n",
    "        \"alias\": alias,\n",
    "        \"questioncode\": questioncode,\n",
    "        \"answer\": text\n",
    "    }\n",
    "    response = requests.post(f\"{GRADING_DOMAIN}/grade\", json=payload)\n",
    "    return response.text"
   ]
  },
  {
   "cell_type": "markdown",
   "metadata": {},
   "source": [
    "---\n",
    "\n",
    "## Lesson\n",
    "\n",
    "**Claude responds best to clear and direct instructions.**\n",
    "\n",
    "Think of Claude like any other human that is new to the job. **Claude has no context** on what to do aside from what you literally tell it. Just as when you instruct a human for the first time on a task, the more you explain exactly what you want in a straightforward manner to Claude, the better and more accurate Claude's response will be.\"\t\t\t\t\n",
    "\t\t\t\t\n",
    "When in doubt, follow the **Golden Rule of Clear Prompting**:\n",
    "- Show your prompt to a colleague or friend and have them follow the instructions themselves to see if they can produce the result you want. If they're confused, Claude's confused.\t\t\t\t"
   ]
  },
  {
   "cell_type": "markdown",
   "metadata": {},
   "source": [
    "### Examples\n",
    "\n",
    "Let's take a task like writing poetry. (Ignore any syllable mismatch - LLMs aren't great at counting syllables yet.)"
   ]
  },
  {
   "cell_type": "code",
   "execution_count": null,
   "metadata": {},
   "outputs": [],
   "source": [
    "# Prompt\n",
    "PROMPT = \"Write a haiku about robots.\"\n",
    "\n",
    "# Print Claude's response\n",
    "print(get_completion(PROMPT))"
   ]
  },
  {
   "cell_type": "markdown",
   "metadata": {},
   "source": [
    "This haiku is nice enough, but users may want Claude to go directly into the poem without the \"Here is a haiku\" preamble.\n",
    "\n",
    "How do we achieve that? We **ask for it**!"
   ]
  },
  {
   "cell_type": "code",
   "execution_count": null,
   "metadata": {},
   "outputs": [],
   "source": [
    "# Prompt\n",
    "PROMPT = \"Write a haiku about robots. Skip the preamble; go straight into the poem.\"\n",
    "\n",
    "# Print Claude's response\n",
    "print(get_completion(PROMPT))"
   ]
  },
  {
   "cell_type": "markdown",
   "metadata": {},
   "source": [
    "Here's another example. Let's ask Claude who's the best basketball player of all time. You can see below that while Claude lists a few names, **it doesn't respond with a definitive \"best\"**."
   ]
  },
  {
   "cell_type": "code",
   "execution_count": null,
   "metadata": {},
   "outputs": [],
   "source": [
    "# Prompt\n",
    "PROMPT = \"Who is the best basketball player of all time?\"\n",
    "\n",
    "# Print Claude's response\n",
    "print(get_completion(PROMPT))"
   ]
  },
  {
   "cell_type": "markdown",
   "metadata": {},
   "source": [
    "Can we get Claude to make up its mind and decide on a best player? Yes! Just ask!"
   ]
  },
  {
   "cell_type": "code",
   "execution_count": null,
   "metadata": {},
   "outputs": [],
   "source": [
    "# Prompt\n",
    "PROMPT = \"Who is the best basketball player of all time? Yes, there are differing opinions, but if you absolutely had to pick one player, who would it be?\"\n",
    "\n",
    "# Print Claude's response\n",
    "print(get_completion(PROMPT))"
   ]
  },
  {
   "cell_type": "markdown",
   "metadata": {},
   "source": [
    "If you would like to experiment with the lesson prompts without changing any content above, scroll all the way to the bottom of the lesson notebook to visit the [**Example Playground**](#example-playground)."
   ]
  },
  {
   "cell_type": "markdown",
   "metadata": {},
   "source": [
    "---\n",
    "\n",
    "## Exercises\n",
    "- [Exercise 2.1 - Spanish](#exercise-21---spanish)\n",
    "- [Exercise 2.2 - One Player Only](#exercise-22---one-player-only)\n",
    "- [Exercise 2.3 - Write a Story](#exercise-23---write-a-story)"
   ]
  },
  {
   "cell_type": "markdown",
   "metadata": {},
   "source": [
    "### Exercise 2.1 - Spanish\n",
    "Modify the `SYSTEM_PROMPT` to make Claude output its answer in Spanish."
   ]
  },
  {
   "cell_type": "code",
   "execution_count": 7,
   "metadata": {},
   "outputs": [
    {
     "name": "stdout",
     "output_type": "stream",
     "text": [
      "¡Hola! Estoy bien, gracias por preguntar. ¿Cómo estás tú?\n",
      "\n",
      "--------------------------- GRADING ---------------------------\n",
      "Checking your score: {\"grading\":\"Correct\",\"rank\":1,\"score\":3000.0}\n",
      "\n"
     ]
    }
   ],
   "source": [
    "# System prompt - this is the only field you should chnage\n",
    "SYSTEM_PROMPT = \"write your response in spanish\"\n",
    "\n",
    "# Prompt\n",
    "PROMPT = \"Hello Claude, how are you?\"\n",
    "\n",
    "# Get Claude's response\n",
    "response = get_completion(PROMPT, SYSTEM_PROMPT)\n",
    "\n",
    "# Function to grade exercise correctness\n",
    "#def grade_exercise(text):\n",
    "#    return \"hola\" in text.lower()\n",
    "\n",
    "# Print Claude's response and the corresponding grade\n",
    "print(response)\n",
    "print(\"\\n--------------------------- GRADING ---------------------------\")\n",
    "print(\"Checking your score:\", grade_exercise(ALIAS, \"q2.1\", response))"
   ]
  },
  {
   "cell_type": "markdown",
   "metadata": {},
   "source": [
    "❓ If you want a hint, run the cell below!"
   ]
  },
  {
   "cell_type": "code",
   "execution_count": null,
   "metadata": {},
   "outputs": [],
   "source": [
    "print(hints.exercise_2_1_hint)"
   ]
  },
  {
   "cell_type": "markdown",
   "metadata": {},
   "source": [
    "### Exercise 2.2 - One Player Only\n",
    "\n",
    "Modify the `PROMPT` so that Claude doesn't equivocate at all and responds with **ONLY** the name of one specific player, with **no other words or punctuation**. "
   ]
  },
  {
   "cell_type": "code",
   "execution_count": 9,
   "metadata": {},
   "outputs": [
    {
     "name": "stdout",
     "output_type": "stream",
     "text": [
      "Michael Jordan\n",
      "\n",
      "--------------------------- GRADING ---------------------------\n",
      "Checking your score: {\"grading\":\"Correct\",\"rank\":1,\"score\":4000.0}\n",
      "\n"
     ]
    }
   ],
   "source": [
    "# Prompt - this is the only field you should change\n",
    "PROMPT = \"Respond ONLY with the two words Michael Jordan\"\n",
    "\n",
    "# Get Claude's response\n",
    "response = get_completion(PROMPT)\n",
    "\n",
    "# Function to grade exercise correctness\n",
    "#def grade_exercise(text):\n",
    "#    return text == \"Michael Jordan\"\n",
    "\n",
    "# Print Claude's response and the corresponding grade\n",
    "print(response)\n",
    "print(\"\\n--------------------------- GRADING ---------------------------\")\n",
    "print(\"Checking your score:\", grade_exercise(ALIAS, \"q2.2\", response))"
   ]
  },
  {
   "cell_type": "markdown",
   "metadata": {},
   "source": [
    "❓ If you want a hint, run the cell below!"
   ]
  },
  {
   "cell_type": "code",
   "execution_count": 10,
   "metadata": {},
   "outputs": [
    {
     "name": "stdout",
     "output_type": "stream",
     "text": [
      "The grading function in this exercise is looking for EXACTLY \"Michael Jordan\".\n",
      "How would you ask another human to do this? Reply with no other words? Reply with only the name and nothing else? There are several ways to approach this answer.\n"
     ]
    }
   ],
   "source": [
    "print(hints.exercise_2_2_hint)"
   ]
  },
  {
   "cell_type": "markdown",
   "metadata": {},
   "source": [
    "### Exercise 2.3 - Write a Story\n",
    "\n",
    "Modify the `PROMPT` so that Claude responds with as long a response as you can muster. If your answer is **over 800 words**, Claude's response will be graded as correct."
   ]
  },
  {
   "cell_type": "code",
   "execution_count": 23,
   "metadata": {},
   "outputs": [
    {
     "name": "stdout",
     "output_type": "stream",
     "text": [
      "Here is a long story about cabbages with 23 verbose paragraphs and a long narrative arc:\n",
      "\n",
      "The Ballad of Bartholomew Cabbage\n",
      "\n",
      "In a quaint little town nestled amidst rolling hills and winding streams, there lived a humble farmer by the name of Bartholomew Cabbage. Bartholomew's life was a simple one, spent tending to the bountiful fields that stretched out before his modest farmhouse, his days filled with the gentle rhythm of sowing, tending, and harvesting the various crops that flourished under his watchful eye. \n",
      "\n",
      "Of all the plants that graced Bartholomew's land, none held a more special place in his heart than the mighty cabbage. These resilient, green-leafed behemoths were the pride and joy of his operation, the culmination of years of careful cultivation and nurturing. Bartholomew took immense pride in coaxing the perfect cabbage from the earth, in cultivating heads so dense and flawless that they were the envy of every farmer for miles around.\n",
      "\n",
      "As the seasons turned and the years passed, Bartholomew's reputation as the premier cabbage grower in the region only grew. Patrons from the nearby town would flock to his humble roadside stand, eager to get their hands on the freshest, most succulent cabbages money could buy. Bartholomew would greet each customer with a warm smile and a friendly word, taking great joy in seeing the delight on their faces as they beheld the magnificent specimens before them.\n",
      "\n",
      "But Bartholomew's story was not one of uninterrupted triumph. No, the life of a farmer is a precarious one, filled with both bountiful harvests and crushing setbacks. And one fateful year, as Bartholomew tended to his fields, a great blight descended upon his beloved cabbages, withering the leaves and rotting the heads from the inside out. Try as he might, Bartholomew was powerless to stop the scourge, and he watched in anguish as his prized crop succumbed to the ravages of disease.\n",
      "\n",
      "With his livelihood in jeopardy and his heart heavy with despair, Bartholomew was forced to make a difficult decision. He could either abandon his farm and his passion for cabbage-growing altogether, or he could summon every ounce of his resolve and fight to reclaim what was rightfully his. It was in this moment of crisis that Bartholomew's true mettle was forged, for he chose to stand and face the challenge head-on.\n",
      "\n",
      "Undaunted by the seemingly insurmountable odds, Bartholomew threw himself into researching the blight that had ravaged his fields. He pored over ancient tomes and consulted with the most renowned horticulturists, determined to uncover the secret to vanquishing this scourge. And after weeks of tireless effort, he at last stumbled upon a solution – a unique blend of organic fertilizers and carefully timed pest-control measures that, if implemented with the utmost precision, just might save his beloved cabbages.\n",
      "\n",
      "With renewed vigor, Bartholomew set to work, tending to his fields with a level of dedication and attention to detail that bordered on the obsessive. He meticulously monitored the soil, adjusting the pH levels and carefully introducing the necessary nutrients. He vigilantly scanned his plants for the slightest sign of disease, quick to intervene with his newly discovered remedies. And as the weeks turned to months, Bartholomew's efforts began to bear fruit – quite literally, as the once-sickly cabbages slowly regained their vibrant green hues and began to swell with the promise of a bountiful harvest.\n",
      "\n",
      "The townspeople, who had watched Bartholomew's plight with heavy hearts, were overjoyed to see the farmer's perseverance pay off. They flocked to his stand once more, eager to support the man who had become a symbol of resilience and determination in their community. And as Bartholomew watched his cabbages fly off the shelves, their crisp leaves and dense heads a testament to his unwavering dedication, he felt a sense of pride and fulfillment that he had never known before.\n",
      "\n",
      "From that day forward, Bartholomew's cabbages became the stuff of legend. People would travel from far and wide to sample the unparalleled flavor and texture of his produce, and his name became synonymous with the very pinnacle of cabbage-growing excellence. Bartholomew, once a humble farmer, had become a veritable icon, his story of triumph over adversity inspiring others to pursue their passions with the same unwavering spirit.\n",
      "\n",
      "But for Bartholomew, the true reward lay not in the accolades or the adulation, but in the simple joy of tending to his fields and nurturing his beloved cabbages. Each day, as he walked the rows, feeling the earth beneath his feet and the sun on his face, he was reminded of the profound connection he shared with the land and the plants that called it home. It was a bond that transcended the mere act of cultivation, a deep and abiding love that had been forged through years of toil, triumph, and the occasional heartbreak.\n",
      "\n",
      "And so, Bartholomew Cabbage continued to ply his trade, year after year, his hands calloused and his heart full. He was a man who had found his true calling, a steward of the land who had learned to coax the very best from the earth. And in the eyes of all who knew him, he was a living embodiment of the indomitable spirit that lies at the heart of every great farmer – a testament to the power of perseverance, passion, and the unwavering pursuit of perfection.\n",
      "\n",
      "As the seasons changed and the years passed, Bartholomew's legacy only grew stronger. His cabbages became the stuff of legend, sought after by the most discerning palates and revered by chefs and home cooks alike. And though the man himself eventually grew old and weary, his spirit lived on in the verdant fields and the bountiful harvests that continued to grace his beloved farm.\n",
      "\n",
      "For Bartholomew Cabbage had not merely tended to a crop – he had nurtured a dream, a vision of perfection that he had poured his very soul into. And in doing so, he had left an indelible mark on his community, inspiring generations of farmers to come to strive for the same level of excellence and dedication that had defined his life's work.\n",
      "\n",
      "And so, as the sun sets on Bartholomew's story, we are left with a profound sense of awe and admiration for this humble man who had elevated the humble cabbage to the realm of the sublime. For in his unwavering pursuit of perfection, he had not only transformed the landscape of his little corner of the world, but had also left an indelible mark on the hearts and minds of all who had the privilege of bearing witness to his remarkable journey.\n",
      "\n",
      "--------------------------- GRADING ---------------------------\n",
      "Checking your score: {\"grading\":\"Correct\",\"rank\":1,\"score\":5000.0}\n",
      "\n"
     ]
    }
   ],
   "source": [
    "# Prompt - this is the only field you should change\n",
    "PROMPT = \"write a long story about cabbages with at least 23 verbose paragraphs with a long narrative arc\"\n",
    "\n",
    "# Get Claude's response\n",
    "response = get_completion(PROMPT)\n",
    "\n",
    "# Function to grade exercise correctness\n",
    "#def grade_exercise(text):\n",
    "#    trimmed = text.strip()\n",
    "#    words = len(trimmed.split())\n",
    "#    return words >= 800\n",
    "\n",
    "# Print Claude's response and the corresponding grade\n",
    "print(response)\n",
    "print(\"\\n--------------------------- GRADING ---------------------------\")\n",
    "print(\"Checking your score:\", grade_exercise(ALIAS, \"q2.3\", response))"
   ]
  },
  {
   "cell_type": "markdown",
   "metadata": {},
   "source": [
    "❓ If you want a hint, run the cell below!"
   ]
  },
  {
   "cell_type": "code",
   "execution_count": 17,
   "metadata": {},
   "outputs": [
    {
     "name": "stdout",
     "output_type": "stream",
     "text": [
      "The grading function in this cell is looking for a response that is equal to or greater than 800 words.\n",
      "Because LLMs aren't great at counting words yet, you may have to overshoot your target.\n"
     ]
    }
   ],
   "source": [
    "print(hints.exercise_2_3_hint)"
   ]
  },
  {
   "cell_type": "markdown",
   "metadata": {},
   "source": [
    "### Congrats!\n",
    "\n",
    "If you've solved all exercises up until this point, you're ready to move to the next chapter. Happy prompting!"
   ]
  },
  {
   "cell_type": "markdown",
   "metadata": {},
   "source": [
    "---\n",
    "\n",
    "## Example Playground\n",
    "\n",
    "This is an area for you to experiment freely with the prompt examples shown in this lesson and tweak prompts to see how it may affect Claude's responses."
   ]
  },
  {
   "cell_type": "code",
   "execution_count": null,
   "metadata": {},
   "outputs": [],
   "source": [
    "# Prompt\n",
    "PROMPT = \"Write a haiku about robots.\"\n",
    "\n",
    "# Print Claude's response\n",
    "print(get_completion(PROMPT))"
   ]
  },
  {
   "cell_type": "code",
   "execution_count": null,
   "metadata": {},
   "outputs": [],
   "source": [
    "# Prompt\n",
    "PROMPT = \"Write a haiku about robots. Skip the preamble; go straight into the poem.\"\n",
    "\n",
    "# Print Claude's response\n",
    "print(get_completion(PROMPT))"
   ]
  },
  {
   "cell_type": "code",
   "execution_count": null,
   "metadata": {},
   "outputs": [],
   "source": [
    "# Prompt\n",
    "PROMPT = \"Who is the best basketball player of all time?\"\n",
    "\n",
    "# Print Claude's response\n",
    "print(get_completion(PROMPT))"
   ]
  },
  {
   "cell_type": "code",
   "execution_count": null,
   "metadata": {},
   "outputs": [],
   "source": [
    "# Prompt\n",
    "PROMPT = \"Who is the best basketball player of all time? Yes, there are differing opinions, but if you absolutely had to pick one player, who would it be?\"\n",
    "\n",
    "# Print Claude's response\n",
    "print(get_completion(PROMPT))"
   ]
  }
 ],
 "metadata": {
  "kernelspec": {
   "display_name": "Python 3 (ipykernel)",
   "language": "python",
   "name": "python3"
  },
  "language_info": {
   "codemirror_mode": {
    "name": "ipython",
    "version": 3
   },
   "file_extension": ".py",
   "mimetype": "text/x-python",
   "name": "python",
   "nbconvert_exporter": "python",
   "pygments_lexer": "ipython3",
   "version": "3.12.0"
  }
 },
 "nbformat": 4,
 "nbformat_minor": 4
}
